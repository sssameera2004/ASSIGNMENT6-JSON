{
 "cells": [
  {
   "cell_type": "markdown",
   "id": "35a00448",
   "metadata": {},
   "source": [
    "# THE CODE OF ASSIGNMENT 1 WAS IMPLEMENTED IN VS CODE AS THERE WERE JSON FILES AND THAT CODE AND OUTPUT IS COPIED FROM THERE. SO, CODE IS NOT RUNNING IN THIS JUPYTER NOTEBOOK"
   ]
  },
  {
   "cell_type": "markdown",
   "id": "4030e6c8",
   "metadata": {},
   "source": [
    "# ASSIGNMENT -1 ---------- QUESTION - 1"
   ]
  },
  {
   "cell_type": "code",
   "execution_count": null,
   "id": "0f40f3a5",
   "metadata": {},
   "outputs": [],
   "source": [
    "import json\n",
    "class Employee:\n",
    "    def __init__(self,name,dob,height,city,state):\n",
    "        self.name = name\n",
    "        self.dob = dob\n",
    "        self.height = height\n",
    "        self.city = city\n",
    "        self.state = state\n",
    "        \n",
    "# with open(r\"C:\\Users\\Hp\\OneDrive\\Desktop\\Edyoda Practice\\Edyoda Python Assignment 6\\employee.json\") as file:\n",
    "#     data = json.load(file)\n",
    "file = open(r\"C:\\Users\\Hp\\OneDrive\\Desktop\\Edyoda Practice\\Edyoda Python Assignment 6\\employee.json\")\n",
    "data = json.load(file)\n",
    "employees = []\n",
    "for i in data[\"employees\"]:\n",
    "    name = i[\"name\"]\n",
    "    dob = i[\"DOB\"]\n",
    "    height = i[\"Height\"]\n",
    "    city = i[\"city\"]\n",
    "    state = i[\"state\"]\n",
    "\n",
    "    employee = Employee(name,dob,height,city,state)\n",
    "    employees.append(employee)\n",
    "\n",
    "for i in employees:\n",
    "    print(\"Name : \",i.name)\n",
    "    print(\"DOB : \",i.dob)\n",
    "    print(\"Height : \",i.height)\n",
    "    print(\"City : \",i.city)\n",
    "    print(\"State : \",i.state)\n",
    "    print()\n"
   ]
  },
  {
   "cell_type": "markdown",
   "id": "ba8283d8",
   "metadata": {},
   "source": [
    "# EMLPOYEE JSON FILE"
   ]
  },
  {
   "cell_type": "code",
   "execution_count": null,
   "id": "c72119c0",
   "metadata": {},
   "outputs": [],
   "source": [
    "{\"employees\" : [{\"name\": \"Ram\",\"DOB\":\"01/01/1997\",\"Height\":\"5.8\",\"city\":\"Noida\",\"state\":\"Uttar Pradesh\"},\n",
    "{\"name\": \"Raj\",\"DOB\":\"10/05/1996\",\"Height\":\"5.1\",\"city\":\"Bhatinda\",\"state\":\"Punjab\"},\n",
    "{\"name\": \"Rahul\",\"DOB\":\"12/01/1998\",\"Height\":\"6.2\",\"city\":\"Gurgaon\",\"state\":\"Haryana\"},\n",
    "{\"name\": \"Rohan\",\"DOB\":\"01/04/1995\",\"Height\":\"5.9\",\"city\":\"Pune\",\"state\":\"Maharashtra\"},\n",
    "{\"name\": \"Rehan\",\"DOB\":\"11/01/1999\",\"Height\":\"6.0\",\"city\":\"Shimla\",\"state\":\"Himachal Pradesh\"}]}"
   ]
  },
  {
   "cell_type": "markdown",
   "id": "1624140c",
   "metadata": {},
   "source": [
    "# OUTPUT IN VS CODE"
   ]
  },
  {
   "cell_type": "markdown",
   "id": "bd515680",
   "metadata": {},
   "source": [
    "Name :  Ram\n",
    "DOB :  01/01/1997     \n",
    "Height :  5.8\n",
    "City :  Noida\n",
    "State :  Uttar Pradesh\n",
    "\n",
    "Name :  Raj\n",
    "DOB :  10/05/1996     \n",
    "Height :  5.1\n",
    "City :  Bhatinda      \n",
    "State :  Punjab       \n",
    "\n",
    "Name :  Rahul\n",
    "DOB :  12/01/1998     \n",
    "Height :  6.2\n",
    "City :  Gurgaon\n",
    "State :  Haryana\n",
    "\n",
    "Name :  Rohan\n",
    "DOB :  01/04/1995\n",
    "Height :  5.9\n",
    "City :  Pune\n",
    "State :  Maharashtra\n",
    "\n",
    "Name :  Rehan\n",
    "DOB :  11/01/1999\n",
    "Height :  6.0\n",
    "City :  Shimla\n",
    "State :  Himachal Pradesh\n",
    "\n",
    "PS C:\\Users\\Hp\\OneDrive\\Desktop\\Edyoda Practice>"
   ]
  },
  {
   "cell_type": "markdown",
   "id": "03818b76",
   "metadata": {},
   "source": [
    "# ASSIGNMENT - 1 ----------- QUESTION - 2"
   ]
  },
  {
   "cell_type": "code",
   "execution_count": null,
   "id": "98d143e0",
   "metadata": {},
   "outputs": [],
   "source": [
    "import json\n",
    "dict1 = {'Haryana':'Chandigarh','Maharashtra':'Mumbai','Karnataka':'Bangluru','Rajasthan':'Jaipur','Uttar Pradesh':'Lucknow','Gujarat':'Gandhinagar','Goa':'Panaji'}\n",
    "file = open(r\"C:\\Users\\Hp\\OneDrive\\Desktop\\Edyoda Practice\\Edyoda Python Assignment 6\\assignment_7_file.json\",\"w\")\n",
    "json.dump(dict1,file)"
   ]
  },
  {
   "cell_type": "markdown",
   "id": "eb586a57",
   "metadata": {},
   "source": [
    "# OUTPUT IN JSON FILE"
   ]
  },
  {
   "cell_type": "markdown",
   "id": "5cbb81e4",
   "metadata": {},
   "source": [
    "{\"Haryana\": \"Chandigarh\", \"Maharashtra\": \"Mumbai\", \"Karnataka\": \"Bangluru\", \"Rajasthan\": \"Jaipur\", \"Uttar Pradesh\": \"Lucknow\", \"Gujarat\": \"Gandhinagar\", \"Goa\": \"Panaji\"}"
   ]
  },
  {
   "cell_type": "markdown",
   "id": "05e73f01",
   "metadata": {},
   "source": [
    "# ASSIGNMENT - 2 "
   ]
  },
  {
   "cell_type": "code",
   "execution_count": 2,
   "id": "8625522e",
   "metadata": {},
   "outputs": [
    {
     "name": "stdout",
     "output_type": "stream",
     "text": [
      "Name : Pablo \n",
      "Age : 4\n",
      "Coat_color : Black and White\n",
      "Name : Skuby \n",
      "Age : 5\n",
      "Coat_color : Black\n",
      "Owner of Skuby dog is Mr. John.\n",
      "Skuby lives in Los Angeles with his owner.\n",
      "Name : Tyson \n",
      "Age : 3\n",
      "Coat_color : Brown\n",
      "Height of Tyson is 2 feet.\n",
      "Weight of Tyson is 50kg.\n"
     ]
    }
   ],
   "source": [
    "class Dog:\n",
    "    def __init__(self,name,age,coat_color):\n",
    "        self.name = name\n",
    "        self.age = age\n",
    "        self.coat_color = coat_color\n",
    "\n",
    "    def description(self):\n",
    "        print(f\"Name : {self.name} \\nAge : {self.age}\")\n",
    "    \n",
    "    def get_info(self):\n",
    "        print(f\"Coat_color : {self.coat_color}\")\n",
    "    \n",
    "class JackRussellTerrier(Dog):\n",
    "    def __init__(self, name, age, coat_color,trained):\n",
    "        super().__init__(name, age, coat_color)\n",
    "        self.trained = trained\n",
    "    \n",
    "    def owner(self):\n",
    "        print(f\"Owner of {self.name} dog is Mr. John.\")\n",
    "        \n",
    "    def city(self):\n",
    "        print(f\"{self.name} lives in Los Angeles with his owner.\")\n",
    "\n",
    "class Bulldog(Dog):\n",
    "    def __init__(self, name, age, coat_color,friendly):\n",
    "        super().__init__(name, age, coat_color)\n",
    "        self.friendly = friendly\n",
    "\n",
    "    def height(self):\n",
    "        print(f\"Height of {self.name} is 2 feet.\")\n",
    "    \n",
    "    def weight(self):\n",
    "        print(f\"Weight of {self.name} is 50kg.\")\n",
    "\n",
    "dog = Dog(\"Pablo\",4,\"Black and White\")\n",
    "dog.description()\n",
    "dog.get_info()\n",
    "\n",
    "jack = JackRussellTerrier(\"Skuby\",5,\"Black\",\"yes\")\n",
    "jack.description()\n",
    "jack.get_info()\n",
    "jack.owner()\n",
    "jack.city()\n",
    "\n",
    "bull = Bulldog(\"Tyson\",3,\"Brown\",\"Yes\")\n",
    "bull.description()\n",
    "bull.get_info()\n",
    "bull.height()\n",
    "bull.weight()"
   ]
  }
 ],
 "metadata": {
  "kernelspec": {
   "display_name": "Python 3 (ipykernel)",
   "language": "python",
   "name": "python3"
  },
  "language_info": {
   "codemirror_mode": {
    "name": "ipython",
    "version": 3
   },
   "file_extension": ".py",
   "mimetype": "text/x-python",
   "name": "python",
   "nbconvert_exporter": "python",
   "pygments_lexer": "ipython3",
   "version": "3.9.13"
  }
 },
 "nbformat": 4,
 "nbformat_minor": 5
}
